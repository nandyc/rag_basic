{
  "nbformat": 4,
  "nbformat_minor": 0,
  "metadata": {
    "colab": {
      "provenance": [],
      "authorship_tag": "ABX9TyNafxprj315Y64SghFUVju2",
      "include_colab_link": true
    },
    "kernelspec": {
      "name": "python3",
      "display_name": "Python 3"
    },
    "language_info": {
      "name": "python"
    }
  },
  "cells": [
    {
      "cell_type": "markdown",
      "metadata": {
        "id": "view-in-github",
        "colab_type": "text"
      },
      "source": [
        "<a href=\"https://colab.research.google.com/github/nandyc/rag_basic/blob/main/rag_basic.ipynb\" target=\"_parent\"><img src=\"https://colab.research.google.com/assets/colab-badge.svg\" alt=\"Open In Colab\"/></a>"
      ]
    },
    {
      "cell_type": "code",
      "source": [
        "from google.colab import userdata"
      ],
      "metadata": {
        "id": "f8hS9uTn3CWX"
      },
      "execution_count": 16,
      "outputs": []
    },
    {
      "cell_type": "code",
      "source": [
        "# github_email = userdata.get('GITHUB_EMAIL')\n",
        "# github_username = userdata.get('GITHUB_USERNAME')"
      ],
      "metadata": {
        "id": "HAWhbKZY3crF"
      },
      "execution_count": 20,
      "outputs": []
    },
    {
      "cell_type": "code",
      "source": [
        "!git config --global user.email {github_email}\n",
        "!git config --global user.name {github_username}"
      ],
      "metadata": {
        "id": "5LDj6mHrsUyt"
      },
      "execution_count": 28,
      "outputs": []
    },
    {
      "cell_type": "code",
      "execution_count": 29,
      "metadata": {
        "colab": {
          "base_uri": "https://localhost:8080/"
        },
        "id": "B_iux2Vu5P25",
        "outputId": "40dcce61-3625-4201-a7fc-319a69c105a3"
      },
      "outputs": [
        {
          "output_type": "stream",
          "name": "stdout",
          "text": [
            "Cloning into 'rag_basic'...\n",
            "remote: Enumerating objects: 19, done.\u001b[K\n",
            "remote: Counting objects: 100% (19/19), done.\u001b[K\n",
            "remote: Compressing objects: 100% (17/17), done.\u001b[K\n",
            "remote: Total 19 (delta 4), reused 0 (delta 0), pack-reused 0 (from 0)\u001b[K\n",
            "Receiving objects: 100% (19/19), 19.49 KiB | 464.00 KiB/s, done.\n",
            "Resolving deltas: 100% (4/4), done.\n"
          ]
        }
      ],
      "source": [
        "!git clone https://github.com/nandyc/rag_basic.git"
      ]
    },
    {
      "cell_type": "code",
      "source": [
        "%cd rag_basic"
      ],
      "metadata": {
        "colab": {
          "base_uri": "https://localhost:8080/"
        },
        "id": "QoNlhRDm34lY",
        "outputId": "fa0955c3-a2c8-48af-e344-60ca53036e38"
      },
      "execution_count": 30,
      "outputs": [
        {
          "output_type": "stream",
          "name": "stdout",
          "text": [
            "/content/rag_basic/rag_basic\n"
          ]
        }
      ]
    },
    {
      "cell_type": "code",
      "source": [
        "# !git status\n",
        "# !echo \"# Some dummy text\" >> new.md\n",
        "# !git add .\n",
        "# !git commit -m \"test\"\n",
        "# !git push origin main\n"
      ],
      "metadata": {
        "colab": {
          "base_uri": "https://localhost:8080/"
        },
        "id": "fjnTJTum4aAZ",
        "outputId": "fc8abb77-f723-450c-cad6-f370f5d31a97"
      },
      "execution_count": 32,
      "outputs": [
        {
          "output_type": "stream",
          "name": "stdout",
          "text": [
            "On branch main\n",
            "Your branch is up to date with 'origin/main'.\n",
            "\n",
            "Untracked files:\n",
            "  (use \"git add <file>...\" to include in what will be committed)\n",
            "\t\u001b[31mnew.md\u001b[m\n",
            "\n",
            "nothing added to commit but untracked files present (use \"git add\" to track)\n"
          ]
        }
      ]
    },
    {
      "cell_type": "code",
      "source": [],
      "metadata": {
        "colab": {
          "base_uri": "https://localhost:8080/"
        },
        "id": "h6juS8el4I9t",
        "outputId": "3cdda934-bd89-4405-9e37-10d4a3a5a2f6"
      },
      "execution_count": 33,
      "outputs": [
        {
          "output_type": "stream",
          "name": "stdout",
          "text": [
            "[main 4917b04] test\n",
            " 1 file changed, 1 insertion(+)\n",
            " create mode 100644 new.md\n",
            "fatal: could not read Username for 'https://github.com': No such device or address\n"
          ]
        }
      ]
    },
    {
      "cell_type": "code",
      "source": [
        "import os\n",
        "import collections\n",
        "from dotenv import load_dotenv\n",
        "from openai import OpenAI\n",
        "import chromadb\n",
        "from chromadb.utils import embedding_functions"
      ],
      "metadata": {
        "id": "oBMTO4mY5tAr"
      },
      "execution_count": null,
      "outputs": []
    },
    {
      "cell_type": "code",
      "source": [
        "%%capture\n",
        "# !pip install python-dotenv\n",
        "!pip install openai\n",
        "!pip install chromadb\n",
        "!pip install tiktoken"
      ],
      "metadata": {
        "id": "zrDF9PbOlE95"
      },
      "execution_count": null,
      "outputs": []
    },
    {
      "cell_type": "code",
      "source": [
        "# load_dotenv()\n",
        "# openai_key =os.getenv(\"OPENAI_API_KEY\")"
      ],
      "metadata": {
        "colab": {
          "base_uri": "https://localhost:8080/"
        },
        "id": "NRDvJ6D0kfYy",
        "outputId": "e15deff1-f28b-4ae2-b6a3-312b90a1d6fd"
      },
      "execution_count": null,
      "outputs": [
        {
          "output_type": "execute_result",
          "data": {
            "text/plain": [
              "False"
            ]
          },
          "metadata": {},
          "execution_count": 6
        }
      ]
    },
    {
      "cell_type": "code",
      "source": [
        "openai_key =userdata.get('OPENAI_APIKEY')"
      ],
      "metadata": {
        "id": "gTHziD60mtom"
      },
      "execution_count": null,
      "outputs": []
    },
    {
      "cell_type": "code",
      "source": [
        "openai_ef = embedding_functions.OpenAIEmbeddingFunction(\n",
        "    api_key=openai_key, model_name=\"text-embedding-3-small\"\n",
        ")"
      ],
      "metadata": {
        "id": "oY-3pgg3kjXS"
      },
      "execution_count": null,
      "outputs": []
    },
    {
      "cell_type": "code",
      "source": [
        "# Initialize the Chroma client with persistence\n",
        "chroma_client = chromadb.PersistentClient(path=\"chroma_persistent_storage\")\n",
        "collection_name = \"document_qa_collection\"\n",
        "collection = chroma_client.get_or_create_collection(\n",
        "    name=collection_name, embedding_function=openai_ef\n",
        ")"
      ],
      "metadata": {
        "id": "CgXByh8qklKD"
      },
      "execution_count": null,
      "outputs": []
    },
    {
      "cell_type": "code",
      "source": [
        "client = OpenAI(api_key=openai_key)"
      ],
      "metadata": {
        "id": "4oL5uc4akmdB"
      },
      "execution_count": null,
      "outputs": []
    },
    {
      "cell_type": "code",
      "source": [
        "# resp = client.chat.completions.create(\n",
        "#     model=\"gpt-3.5-turbo\",\n",
        "#     messages=[\n",
        "#         {\"role\": \"system\", \"content\": \"You are a helpful assistant.\"},\n",
        "#         {\n",
        "#             \"role\": \"user\",\n",
        "#             \"content\": \"What is human life expectancy in the United States?\",\n",
        "#         },\n",
        "#     ],\n",
        "# )\n",
        "# print(resp.choices[0].message.content)\n",
        "# print (resp)"
      ],
      "metadata": {
        "colab": {
          "base_uri": "https://localhost:8080/"
        },
        "id": "FBAbzmnUkny5",
        "outputId": "bea8b1bf-b364-48a6-e33c-68f85498e077"
      },
      "execution_count": null,
      "outputs": [
        {
          "output_type": "stream",
          "name": "stdout",
          "text": [
            "As of 2021, the average life expectancy in the United States is around 78.9 years. However, this can vary based on factors such as gender, race, and socio-economic status. It is important to note that life expectancy is an average and individual outcomes can vary.\n",
            "ChatCompletion(id='chatcmpl-A0Ob84paAz1J8OtPVTTPcv1gj7EVi', choices=[Choice(finish_reason='stop', index=0, logprobs=None, message=ChatCompletionMessage(content='As of 2021, the average life expectancy in the United States is around 78.9 years. However, this can vary based on factors such as gender, race, and socio-economic status. It is important to note that life expectancy is an average and individual outcomes can vary.', refusal=None, role='assistant', function_call=None, tool_calls=None))], created=1724657918, model='gpt-3.5-turbo-0125', object='chat.completion', service_tier=None, system_fingerprint=None, usage=CompletionUsage(completion_tokens=58, prompt_tokens=27, total_tokens=85))\n"
          ]
        }
      ]
    },
    {
      "cell_type": "code",
      "source": [
        "# Function to load documents from a directory\n",
        "def load_documents_from_directory(directory_path):\n",
        "    print(\"==== Loading documents from directory ====\")\n",
        "    documents = []\n",
        "    for filename in os.listdir(directory_path):\n",
        "        if filename.endswith(\".txt\"):\n",
        "            with open(\n",
        "                os.path.join(directory_path, filename), \"r\", encoding=\"utf-8\"\n",
        "            ) as file:\n",
        "                documents.append({\"id\": filename, \"text\": file.read()})\n",
        "    print(type(documents[0]))\n",
        "    # list_of_filenames = collections.Counter([i['id'] for i in documents]).keys()\n",
        "    list_of_filenames = [item['id'] for item in documents]\n",
        "    print(list_of_filenames)\n",
        "    return documents"
      ],
      "metadata": {
        "id": "MqWrHVHwkq1M"
      },
      "execution_count": null,
      "outputs": []
    },
    {
      "cell_type": "code",
      "source": [
        "    # Function to split text into chunks\n",
        "def split_text(text, chunk_size=1000, chunk_overlap=20):\n",
        "    chunks = []\n",
        "    start = 0\n",
        "    while start < len(text):\n",
        "        end = start + chunk_size\n",
        "        chunks.append(text[start:end])\n",
        "        start = end - chunk_overlap\n",
        "    print(chunks)\n",
        "    return chunks"
      ],
      "metadata": {
        "id": "8hmwCV9sksVJ"
      },
      "execution_count": null,
      "outputs": []
    },
    {
      "cell_type": "code",
      "source": [
        "    # Load documents from the directory\n",
        "directory_path = \"./news_articles\"\n",
        "documents = load_documents_from_directory(directory_path)"
      ],
      "metadata": {
        "id": "lK9OA3q_kt2z"
      },
      "execution_count": null,
      "outputs": []
    },
    {
      "cell_type": "code",
      "source": [
        "print(f\"Loaded {len(documents)} documents\")"
      ],
      "metadata": {
        "id": "zruASE-rku-_"
      },
      "execution_count": null,
      "outputs": []
    },
    {
      "cell_type": "code",
      "source": [
        "# Split documents into chunks\n",
        "chunked_documents = []\n",
        "for doc in documents:\n",
        "    chunks = split_text(doc[\"text\"])\n",
        "    print(\"==== Splitting docs into chunks ====\")\n",
        "    for i, chunk in enumerate(chunks):\n",
        "        chunked_documents.append({\"id\": f\"{doc['id']}_chunk{i+1}\", \"text\": chunk})\n",
        "\n",
        "print(f\"Split documents into {len(chunked_documents)} chunks\")\n",
        "# print(chunked_documents)"
      ],
      "metadata": {
        "id": "-bN6DHEEkwcu"
      },
      "execution_count": null,
      "outputs": []
    },
    {
      "cell_type": "code",
      "source": [
        "# Function to generate embeddings using OpenAI API\n",
        "def get_openai_embedding(text):\n",
        "    response = client.embeddings.create(input=text, model=\"text-embedding-3-small\")\n",
        "    embedding = response.data[0].embedding\n",
        "    print(\"==== Generating embeddings... ====\")\n",
        "    return embedding"
      ],
      "metadata": {
        "id": "o5EcpKk_kxuu"
      },
      "execution_count": null,
      "outputs": []
    },
    {
      "cell_type": "code",
      "source": [
        "# Generate embeddings for the document chunks\n",
        "for doc in chunked_documents:\n",
        "    print(\"==== Generating embeddings... ====\")\n",
        "    doc[\"embedding\"] = get_openai_embedding(doc[\"text\"])\n",
        "\n",
        "# print(doc[\"embedding\"])\n",
        "print(chunked_documents)"
      ],
      "metadata": {
        "id": "ddy4MghxkzC5"
      },
      "execution_count": null,
      "outputs": []
    },
    {
      "cell_type": "code",
      "source": [
        "# Upsert documents with embeddings into Chroma\n",
        "# for doc in chunked_documents:\n",
        "#     print(\"==== Inserting chunks into db;;; ====\")\n",
        "#     collection.upsert(\n",
        "#         ids=[doc[\"id\"]], documents=[doc[\"text\"]], embeddings=[doc[\"embedding\"]]\n",
        "#     )"
      ],
      "metadata": {
        "id": "c60wHyWZk0oQ"
      },
      "execution_count": null,
      "outputs": []
    }
  ]
}